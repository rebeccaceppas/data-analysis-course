{
 "cells": [
  {
   "cell_type": "markdown",
   "metadata": {},
   "source": [
    "# Section 1: What is Data analysis?\n",
    "\n",
    "### Definition\n",
    "\n",
    "Gathering, transforming, inspecting, modelling data in order to extract useful information, make conclusions.\n",
    "\n",
    "### Existing tools\n",
    "\n",
    "- auto-managed tools \n",
    "    - need to buy and then can use right away\n",
    "    - ex: tableau, looker, excell\n",
    "- programming languages\n",
    "    - ex: python, R, Julia\n",
    "    \n",
    "### Process\n",
    "\n",
    "1. Data Extraction\n",
    "Comes from your own data base, web API\n",
    "\n",
    "2. Data Cleaning\n",
    "If source is own data base then probably already in shape. Using external sources, will need to do more work here\n",
    "\n",
    "3. Data Wrangling\n",
    "Rearrange data for better analysis. Making tables, combining data for multiple sources, etc.\n",
    "\n",
    "4. Analysis\n",
    "extracting patterns from clean and in shape data. Statistical analysis is fundamental\n",
    "\n",
    "5. Action\n",
    "Can implement machine learning models, build reports, support decision making.\n",
    "\n",
    "### Data Analysis vs Data Science\n",
    "\n",
    "Boundaries are not very clear. Analists have more communication qualities, scientists have more math based knowledge.\n",
    "\n",
    "### Python & PyData Ecosystem\n",
    "\n",
    "#### Most importat libraries\n",
    "- pandas: data analysis\n",
    "- matplotlib and seaborn for visualization\n",
    "\n",
    "#### Thought process\n",
    "don't have constant visual reference of data that we have, therefore can work with millions of data points at once.\n",
    "\n"
   ]
  },
  {
   "cell_type": "code",
   "execution_count": null,
   "metadata": {},
   "outputs": [],
   "source": []
  }
 ],
 "metadata": {
  "kernelspec": {
   "display_name": "Python 3",
   "language": "python",
   "name": "python3"
  },
  "language_info": {
   "codemirror_mode": {
    "name": "ipython",
    "version": 3
   },
   "file_extension": ".py",
   "mimetype": "text/x-python",
   "name": "python",
   "nbconvert_exporter": "python",
   "pygments_lexer": "ipython3",
   "version": "3.7.4"
  }
 },
 "nbformat": 4,
 "nbformat_minor": 4
}
